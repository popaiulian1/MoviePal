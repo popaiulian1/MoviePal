{
 "cells": [
  {
   "cell_type": "code",
   "execution_count": null,
   "id": "4eb010cd",
   "metadata": {},
   "outputs": [],
   "source": [
    "!pip install pymongo pyodbc"
   ]
  },
  {
   "cell_type": "code",
   "execution_count": null,
   "id": "bde040c5",
   "metadata": {},
   "outputs": [
    {
     "name": "stdout",
     "output_type": "stream",
     "text": [
      "Found tables: ['users', 'cinema_entries', 'cinemas']\n",
      "Migrating table dbo.users → MongoDB collection 'users'\n",
      "  → Inserted 0 documents into 'users'.\n",
      "Migrating table dbo.cinema_entries → MongoDB collection 'cinema_entries'\n",
      "  → Inserted 0 documents into 'cinema_entries'.\n",
      "Migrating table dbo.cinemas → MongoDB collection 'cinemas'\n",
      "  → Inserted 2 documents into 'cinemas'.\n",
      "Migration complete!\n"
     ]
    }
   ],
   "source": [
    "import pyodbc\n",
    "from pymongo import MongoClient\n",
    "\n",
    "# 1. CONFIGURE CONNECTION STRINGS\n",
    "SQL_SERVER_CONN_STR = (\n",
    "    \"DRIVER={ODBC Driver 17 for SQL Server};\"\n",
    "    \"SERVER=NAME\\\\SQLEXPRESS;\"\n",
    "    \"DATABASE=moviepal_db;\"\n",
    "    \"Trusted_Connection=yes;\"\n",
    ")\n",
    "MONGO_CONN_STR = \"mongodb://localhost:27017\"  # or your Atlas URI\n",
    "\n",
    "# 2. CONNECT TO SQL SERVER\n",
    "sql_conn = pyodbc.connect(SQL_SERVER_CONN_STR)\n",
    "sql_cursor = sql_conn.cursor()\n",
    "\n",
    "# 3. CONNECT TO MONGODB\n",
    "mongo_client = MongoClient(MONGO_CONN_STR)\n",
    "mongo_db = mongo_client[\"moviepal_db\"]  # target MongoDB database name\n",
    "\n",
    "# 4. GET LIST OF USER TABLES IN THE MOVIEPAL_DB\n",
    "#    We assume all tables live in 'dbo' schema. Adjust if yours uses a different schema.\n",
    "sql_cursor.execute(\"\"\"\n",
    "    SELECT TABLE_SCHEMA, TABLE_NAME\n",
    "    FROM INFORMATION_SCHEMA.TABLES\n",
    "    WHERE TABLE_TYPE = 'BASE TABLE'\n",
    "      AND TABLE_CATALOG = 'moviepal_db'\n",
    "      AND TABLE_SCHEMA = 'dbo'\n",
    "\"\"\")\n",
    "tables = sql_cursor.fetchall()  # list of (schema, table_name)\n",
    "\n",
    "print(\"Found tables:\", [t.TABLE_NAME for t in tables])\n",
    "\n",
    "# 5. FOR EACH TABLE, SELECT * AND INSERT INTO MONGODB\n",
    "for schema, table_name in tables:\n",
    "    collection = mongo_db[table_name]   # collection name = table name\n",
    "    print(f\"Migrating table {schema}.{table_name} → MongoDB collection '{table_name}'\")\n",
    "\n",
    "    # Build and execute a SELECT * query\n",
    "    select_sql = f\"SELECT * FROM [{schema}].[{table_name}];\"\n",
    "    sql_cursor.execute(select_sql)\n",
    "    columns = [column[0] for column in sql_cursor.description]\n",
    "\n",
    "    batch = []\n",
    "    BATCH_SIZE = 500  # adjust as needed\n",
    "    rowcount = 0\n",
    "\n",
    "    for row in sql_cursor:\n",
    "        # row is a tuple matching the columns list\n",
    "        doc = {}\n",
    "        for idx, col_name in enumerate(columns):\n",
    "            value = row[idx]\n",
    "            # Optionally handle date/datetime conversion, Decimal, UUID, etc.\n",
    "            # For example, if value is a Decimal, you might do: float(value)\n",
    "            doc[col_name] = value\n",
    "\n",
    "        batch.append(doc)\n",
    "        rowcount += 1\n",
    "\n",
    "        # Bulk‐insert every BATCH_SIZE documents\n",
    "        if len(batch) >= BATCH_SIZE:\n",
    "            collection.insert_many(batch)\n",
    "            batch.clear()\n",
    "\n",
    "    # Insert any remainder\n",
    "    if batch:\n",
    "        collection.insert_many(batch)\n",
    "\n",
    "    print(f\"  → Inserted {rowcount} documents into '{table_name}'.\")\n",
    "\n",
    "# 6. CLEANUP\n",
    "sql_cursor.close()\n",
    "sql_conn.close()\n",
    "mongo_client.close()\n",
    "\n",
    "print(\"Migration complete!\")\n"
   ]
  }
 ],
 "metadata": {
  "kernelspec": {
   "display_name": "machine-learning",
   "language": "python",
   "name": "python3"
  },
  "language_info": {
   "codemirror_mode": {
    "name": "ipython",
    "version": 3
   },
   "file_extension": ".py",
   "mimetype": "text/x-python",
   "name": "python",
   "nbconvert_exporter": "python",
   "pygments_lexer": "ipython3",
   "version": "3.12.9"
  },
  "toc": {
   "base_numbering": 1,
   "nav_menu": {},
   "number_sections": true,
   "sideBar": true,
   "skip_h1_title": false,
   "title_cell": "Table of Contents",
   "title_sidebar": "Contents",
   "toc_cell": false,
   "toc_position": {},
   "toc_section_display": true,
   "toc_window_display": false
  },
  "varInspector": {
   "cols": {
    "lenName": 16,
    "lenType": 16,
    "lenVar": 40
   },
   "kernels_config": {
    "python": {
     "delete_cmd_postfix": "",
     "delete_cmd_prefix": "del ",
     "library": "var_list.py",
     "varRefreshCmd": "print(var_dic_list())"
    },
    "r": {
     "delete_cmd_postfix": ") ",
     "delete_cmd_prefix": "rm(",
     "library": "var_list.r",
     "varRefreshCmd": "cat(var_dic_list()) "
    }
   },
   "types_to_exclude": [
    "module",
    "function",
    "builtin_function_or_method",
    "instance",
    "_Feature"
   ],
   "window_display": false
  }
 },
 "nbformat": 4,
 "nbformat_minor": 5
}
